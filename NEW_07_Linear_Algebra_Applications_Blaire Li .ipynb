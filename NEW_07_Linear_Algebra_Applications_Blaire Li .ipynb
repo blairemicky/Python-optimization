{
 "cells": [
  {
   "cell_type": "markdown",
   "metadata": {},
   "source": [
    "# Topic Modeling wiht Latent Semantic Analysis"
   ]
  },
  {
   "cell_type": "markdown",
   "metadata": {},
   "source": [
    "Latent Semantic Analysis (LSA) is a method for reducing the dimnesionality of documents treated as a bag of words. It is used for document classification, clustering and retrieval. For example, LSA can be used to search for prior art given a new patent application. In this homework, we will implement a small library for simple latent semantic analysis as a practical example of the application of SVD. The ideas are very similar to PCA.\n",
    "\n",
    "We will implement a toy example of LSA to get familiar with the ideas. If you want to use LSA or similar methods for statiscal language analyis, the most efficient Python library is probably [gensim](https://radimrehurek.com/gensim/) - this also provides an online algorithm - i.e. the training information can be continuously updated. Other useful functions for processing natural language can be found in the [Natural Lnaguage Toolkit](http://www.nltk.org/)."
   ]
  },
  {
   "cell_type": "markdown",
   "metadata": {},
   "source": [
    "**Note**: The SVD from scipy.linalg performs a full decomposition, which is inefficient since we only need to decompose until we get the first k singluar values. If the SVD from `scipy.linalg` is too slow, please use the `sparsesvd` function from the [sparsesvd](https://pypi.python.org/pypi/sparsesvd/) package to perform SVD instead.  You can install in the usual way with \n",
    "```\n",
    "!pip install sparsesvd\n",
    "```\n",
    "\n",
    "Then import the following\n",
    "```python\n",
    "from sparsesvd import sparsesvd \n",
    "from scipy.sparse import csc_matrix \n",
    "```\n",
    "\n",
    "and use as follows\n",
    "```python\n",
    "sparsesvd(csc_matrix(M), k=10)\n",
    "```"
   ]
  },
  {
   "cell_type": "markdown",
   "metadata": {},
   "source": [
    "**Exercise 1 (20 points)**.  Calculating pairwise distance matrices.\n",
    "\n",
    "Suppose we want to construct a distance matrix between the rows of a matrix. For example, given the matrix \n",
    "\n",
    "```python\n",
    "M = np.array([[1,2,3],[4,5,6]])\n",
    "```\n",
    "\n",
    "the distance matrix using Euclidean distance as the measure would be\n",
    "```python\n",
    "[[ 0.000  1.414  2.828]\n",
    " [ 1.414  0.000  1.414]\n",
    " [ 2.828  1.414  0.000]] \n",
    "```\n",
    "if $M$ was a collection of column vectors.\n",
    "\n",
    "Write a function to calculate the pairwise-distance matrix given the matrix $M$ and some arbitrary distance function. Your functions should have the following signature:\n",
    "```\n",
    "def func_name(M, distance_func):\n",
    "    pass\n",
    "```\n",
    "\n",
    "0. Write a distance function for the Euclidean, squared Euclidean and cosine measures.\n",
    "1. Write the function using looping for M as a collection of row vectors.\n",
    "2. Write the function using looping for M as a collection of column vectors.\n",
    "3. Wrtie the function using broadcasting for M as a colleciton of row vectors.\n",
    "4. Write the function using broadcasting for M as a colleciton of column vectors. \n",
    "\n",
    "For 3 and 4, try to avoid using transposition (but if you get stuck, there will be no penalty for using transpoition). Check that all four functions give the same result when applied to the given matrix $M$."
   ]
  },
  {
   "cell_type": "code",
   "execution_count": 329,
   "metadata": {
    "collapsed": true
   },
   "outputs": [],
   "source": [
    "import numpy as np"
   ]
  },
  {
   "cell_type": "code",
   "execution_count": 330,
   "metadata": {
    "collapsed": true
   },
   "outputs": [],
   "source": [
    "def euclidean_dist(u, v, axis= -1):\n",
    "    return np.sqrt(sum((u-v)**2))"
   ]
  },
  {
   "cell_type": "code",
   "execution_count": 331,
   "metadata": {
    "collapsed": true
   },
   "outputs": [],
   "source": [
    "def squared_euclidean(u,v,axis = -1):\n",
    "    return sum((u-v)**2)"
   ]
  },
  {
   "cell_type": "code",
   "execution_count": 332,
   "metadata": {
    "collapsed": true
   },
   "outputs": [],
   "source": [
    "def cosine_dist(u,v,axis = -1):\n",
    "    return 1 - (u * v).sum(axis)/(np.sqrt((u**2).sum(axis)) * np.sqrt((v**2).sum(axis)) )"
   ]
  },
  {
   "cell_type": "code",
   "execution_count": 333,
   "metadata": {
    "collapsed": false
   },
   "outputs": [],
   "source": [
    "M = np.array([[1,2,3],[4,5,6]])"
   ]
  },
  {
   "cell_type": "code",
   "execution_count": 334,
   "metadata": {
    "collapsed": false
   },
   "outputs": [],
   "source": [
    "def row_loop(M, distance_func):\n",
    "    M = M.T\n",
    "    dist = np.zeros([M.shape[0],M.shape[0]])\n",
    "    for i in range(M.shape[0]):\n",
    "        for j in range(dist.shape[0]):\n",
    "             dist[i,j]=distance_func(M[i,],M[j,])\n",
    "    return(dist)"
   ]
  },
  {
   "cell_type": "code",
   "execution_count": 335,
   "metadata": {
    "collapsed": false
   },
   "outputs": [
    {
     "data": {
      "text/plain": [
       "array([[ 0.        ,  1.41421356,  2.82842712],\n",
       "       [ 1.41421356,  0.        ,  1.41421356],\n",
       "       [ 2.82842712,  1.41421356,  0.        ]])"
      ]
     },
     "execution_count": 335,
     "metadata": {},
     "output_type": "execute_result"
    }
   ],
   "source": [
    "row_loop(M,euclidean_dist)"
   ]
  },
  {
   "cell_type": "code",
   "execution_count": 336,
   "metadata": {
    "collapsed": false
   },
   "outputs": [],
   "source": [
    "def col_loop(M,distance_func):\n",
    "    dist = np.zeros([M.shape[1],M.shape[1]])\n",
    "    for i in range(M.shape[1]):\n",
    "        for j in range(dist.shape[1]):\n",
    "             dist[i,j]=distance_func(M[:,i],M[:,j])\n",
    "    return(dist)"
   ]
  },
  {
   "cell_type": "code",
   "execution_count": 337,
   "metadata": {
    "collapsed": false
   },
   "outputs": [
    {
     "data": {
      "text/plain": [
       "array([[ 0.        ,  1.41421356,  2.82842712],\n",
       "       [ 1.41421356,  0.        ,  1.41421356],\n",
       "       [ 2.82842712,  1.41421356,  0.        ]])"
      ]
     },
     "execution_count": 337,
     "metadata": {},
     "output_type": "execute_result"
    }
   ],
   "source": [
    "col_loop(M,euclidean_dist)"
   ]
  },
  {
   "cell_type": "code",
   "execution_count": 338,
   "metadata": {
    "collapsed": false
   },
   "outputs": [],
   "source": [
    "def row_broadcast(M, distance_func):\n",
    "    M = M.T\n",
    "    return distance_func(M.T[:,:,np.newaxis], M.T[:, np.newaxis, :])"
   ]
  },
  {
   "cell_type": "code",
   "execution_count": 339,
   "metadata": {
    "collapsed": false
   },
   "outputs": [
    {
     "data": {
      "text/plain": [
       "array([[ 0.        ,  1.41421356,  2.82842712],\n",
       "       [ 1.41421356,  0.        ,  1.41421356],\n",
       "       [ 2.82842712,  1.41421356,  0.        ]])"
      ]
     },
     "execution_count": 339,
     "metadata": {},
     "output_type": "execute_result"
    }
   ],
   "source": [
    "row_broadcast(M,euclidean_dist)"
   ]
  },
  {
   "cell_type": "code",
   "execution_count": 340,
   "metadata": {
    "collapsed": true
   },
   "outputs": [],
   "source": [
    "def col_broadcast(M, distance_func):\n",
    "    return distance_func(M[:,:, np.newaxis],M[:,np.newaxis,:])"
   ]
  },
  {
   "cell_type": "code",
   "execution_count": 341,
   "metadata": {
    "collapsed": false
   },
   "outputs": [
    {
     "data": {
      "text/plain": [
       "array([[ 0.        ,  1.41421356,  2.82842712],\n",
       "       [ 1.41421356,  0.        ,  1.41421356],\n",
       "       [ 2.82842712,  1.41421356,  0.        ]])"
      ]
     },
     "execution_count": 341,
     "metadata": {},
     "output_type": "execute_result"
    }
   ],
   "source": [
    "col_broadcast(M,euclidean_dist)"
   ]
  },
  {
   "cell_type": "markdown",
   "metadata": {},
   "source": [
    "**Exercise 2 (20 points)**. "
   ]
  },
  {
   "cell_type": "markdown",
   "metadata": {},
   "source": [
    "**Exercise 2 (20 points)**. Write 3 functions to calculate the term frequency (tf), the inverse document frequency (idf) and the product (tf-idf). Each function should take a single argument `docs`, which is a dictionary of (key=identifier, value=dcoument text) pairs, and return an appropriately sized array. Convert '-' to ' ' (space), remove punctuation, convert text to lowercase and split on whitespace to generate a collection of terms from the dcoument text.\n",
    "\n",
    "- tf = the number of occurrences of term $i$ in document $j$\n",
    "- idf = $\\log \\frac{n}{1 + \\text{df}_i}$ where $n$ is the total number of documents and $\\text{df}_i$ is the number of documents in which term $i$ occurs.\n",
    "\n",
    "Print the table of tf-idf values for the following document collection\n",
    "\n",
    "```\n",
    "s1 = \"The quick brown fox\"\n",
    "s2 = \"Brown fox jumps over the jumps jumps jumps\"\n",
    "s3 = \"The the the lazy dog elephant.\"\n",
    "s4 = \"The the the the the dog peacock lion tiger elephant\"\n",
    "\n",
    "docs = {'s1': s1, 's2': s2, 's3': s3, 's4': s4}\n",
    "```"
   ]
  },
  {
   "cell_type": "code",
   "execution_count": 342,
   "metadata": {
    "collapsed": false
   },
   "outputs": [],
   "source": [
    "import string\n",
    "import collections\n",
    "import pandas as pd\n",
    "s1 = \"The quick brown fox\"\n",
    "s2 = \"Brown fox jumps over the jumps jumps jumps\"\n",
    "s3 = \"The the the lazy dog elephant.\"\n",
    "s4 = \"The the the the the dog peacock lion tiger elephant\"\n",
    "\n",
    "docs = {'s1': s1, 's2': s2, 's3': s3, 's4': s4}"
   ]
  },
  {
   "cell_type": "code",
   "execution_count": 343,
   "metadata": {
    "collapsed": false
   },
   "outputs": [],
   "source": [
    "def tf(docs):\n",
    "    arr = {}\n",
    "    for key,value in docs.items():\n",
    "        terms = docs[key].lower().replace('-', ' ').translate(dict.fromkeys(map(ord, string.punctuation))).split()\n",
    "        a = collections.Counter(terms)\n",
    "        arr.update({key:a}) \n",
    "    arr = pd.DataFrame(arr).fillna(0)\n",
    "    return arr    "
   ]
  },
  {
   "cell_type": "code",
   "execution_count": 344,
   "metadata": {
    "collapsed": false
   },
   "outputs": [
    {
     "data": {
      "text/html": [
       "<div>\n",
       "<table border=\"1\" class=\"dataframe\">\n",
       "  <thead>\n",
       "    <tr style=\"text-align: right;\">\n",
       "      <th></th>\n",
       "      <th>s1</th>\n",
       "      <th>s2</th>\n",
       "      <th>s3</th>\n",
       "      <th>s4</th>\n",
       "    </tr>\n",
       "  </thead>\n",
       "  <tbody>\n",
       "    <tr>\n",
       "      <th>brown</th>\n",
       "      <td>1.0</td>\n",
       "      <td>1.0</td>\n",
       "      <td>0.0</td>\n",
       "      <td>0.0</td>\n",
       "    </tr>\n",
       "    <tr>\n",
       "      <th>dog</th>\n",
       "      <td>0.0</td>\n",
       "      <td>0.0</td>\n",
       "      <td>1.0</td>\n",
       "      <td>1.0</td>\n",
       "    </tr>\n",
       "    <tr>\n",
       "      <th>elephant</th>\n",
       "      <td>0.0</td>\n",
       "      <td>0.0</td>\n",
       "      <td>1.0</td>\n",
       "      <td>1.0</td>\n",
       "    </tr>\n",
       "    <tr>\n",
       "      <th>fox</th>\n",
       "      <td>1.0</td>\n",
       "      <td>1.0</td>\n",
       "      <td>0.0</td>\n",
       "      <td>0.0</td>\n",
       "    </tr>\n",
       "    <tr>\n",
       "      <th>jumps</th>\n",
       "      <td>0.0</td>\n",
       "      <td>4.0</td>\n",
       "      <td>0.0</td>\n",
       "      <td>0.0</td>\n",
       "    </tr>\n",
       "    <tr>\n",
       "      <th>lazy</th>\n",
       "      <td>0.0</td>\n",
       "      <td>0.0</td>\n",
       "      <td>1.0</td>\n",
       "      <td>0.0</td>\n",
       "    </tr>\n",
       "    <tr>\n",
       "      <th>lion</th>\n",
       "      <td>0.0</td>\n",
       "      <td>0.0</td>\n",
       "      <td>0.0</td>\n",
       "      <td>1.0</td>\n",
       "    </tr>\n",
       "    <tr>\n",
       "      <th>over</th>\n",
       "      <td>0.0</td>\n",
       "      <td>1.0</td>\n",
       "      <td>0.0</td>\n",
       "      <td>0.0</td>\n",
       "    </tr>\n",
       "    <tr>\n",
       "      <th>peacock</th>\n",
       "      <td>0.0</td>\n",
       "      <td>0.0</td>\n",
       "      <td>0.0</td>\n",
       "      <td>1.0</td>\n",
       "    </tr>\n",
       "    <tr>\n",
       "      <th>quick</th>\n",
       "      <td>1.0</td>\n",
       "      <td>0.0</td>\n",
       "      <td>0.0</td>\n",
       "      <td>0.0</td>\n",
       "    </tr>\n",
       "    <tr>\n",
       "      <th>the</th>\n",
       "      <td>1.0</td>\n",
       "      <td>1.0</td>\n",
       "      <td>3.0</td>\n",
       "      <td>5.0</td>\n",
       "    </tr>\n",
       "    <tr>\n",
       "      <th>tiger</th>\n",
       "      <td>0.0</td>\n",
       "      <td>0.0</td>\n",
       "      <td>0.0</td>\n",
       "      <td>1.0</td>\n",
       "    </tr>\n",
       "  </tbody>\n",
       "</table>\n",
       "</div>"
      ],
      "text/plain": [
       "           s1   s2   s3   s4\n",
       "brown     1.0  1.0  0.0  0.0\n",
       "dog       0.0  0.0  1.0  1.0\n",
       "elephant  0.0  0.0  1.0  1.0\n",
       "fox       1.0  1.0  0.0  0.0\n",
       "jumps     0.0  4.0  0.0  0.0\n",
       "lazy      0.0  0.0  1.0  0.0\n",
       "lion      0.0  0.0  0.0  1.0\n",
       "over      0.0  1.0  0.0  0.0\n",
       "peacock   0.0  0.0  0.0  1.0\n",
       "quick     1.0  0.0  0.0  0.0\n",
       "the       1.0  1.0  3.0  5.0\n",
       "tiger     0.0  0.0  0.0  1.0"
      ]
     },
     "execution_count": 344,
     "metadata": {},
     "output_type": "execute_result"
    }
   ],
   "source": [
    "tf(docs)"
   ]
  },
  {
   "cell_type": "code",
   "execution_count": 345,
   "metadata": {
    "collapsed": true
   },
   "outputs": [],
   "source": [
    "def idf(docs):\n",
    "    term_freq = tf(docs)\n",
    "    num_docs = len(docs)\n",
    "    doc_freq = (term_freq > 0).sum(axis=1)\n",
    "    return np.log(num_docs/(1 + doc_freq))"
   ]
  },
  {
   "cell_type": "code",
   "execution_count": 346,
   "metadata": {
    "collapsed": false
   },
   "outputs": [
    {
     "data": {
      "text/plain": [
       "brown       0.287682\n",
       "dog         0.287682\n",
       "elephant    0.287682\n",
       "fox         0.287682\n",
       "jumps       0.693147\n",
       "lazy        0.693147\n",
       "lion        0.693147\n",
       "over        0.693147\n",
       "peacock     0.693147\n",
       "quick       0.693147\n",
       "the        -0.223144\n",
       "tiger       0.693147\n",
       "dtype: float64"
      ]
     },
     "execution_count": 346,
     "metadata": {},
     "output_type": "execute_result"
    }
   ],
   "source": [
    "idf(docs)"
   ]
  },
  {
   "cell_type": "code",
   "execution_count": 347,
   "metadata": {
    "collapsed": true
   },
   "outputs": [],
   "source": [
    "def tf_idf(docs):\n",
    "    return tf(docs).mul(idf(docs), axis=0)"
   ]
  },
  {
   "cell_type": "code",
   "execution_count": 348,
   "metadata": {
    "collapsed": false
   },
   "outputs": [
    {
     "data": {
      "text/html": [
       "<div>\n",
       "<table border=\"1\" class=\"dataframe\">\n",
       "  <thead>\n",
       "    <tr style=\"text-align: right;\">\n",
       "      <th></th>\n",
       "      <th>s1</th>\n",
       "      <th>s2</th>\n",
       "      <th>s3</th>\n",
       "      <th>s4</th>\n",
       "    </tr>\n",
       "  </thead>\n",
       "  <tbody>\n",
       "    <tr>\n",
       "      <th>brown</th>\n",
       "      <td>0.287682</td>\n",
       "      <td>0.287682</td>\n",
       "      <td>0.000000</td>\n",
       "      <td>0.000000</td>\n",
       "    </tr>\n",
       "    <tr>\n",
       "      <th>dog</th>\n",
       "      <td>0.000000</td>\n",
       "      <td>0.000000</td>\n",
       "      <td>0.287682</td>\n",
       "      <td>0.287682</td>\n",
       "    </tr>\n",
       "    <tr>\n",
       "      <th>elephant</th>\n",
       "      <td>0.000000</td>\n",
       "      <td>0.000000</td>\n",
       "      <td>0.287682</td>\n",
       "      <td>0.287682</td>\n",
       "    </tr>\n",
       "    <tr>\n",
       "      <th>fox</th>\n",
       "      <td>0.287682</td>\n",
       "      <td>0.287682</td>\n",
       "      <td>0.000000</td>\n",
       "      <td>0.000000</td>\n",
       "    </tr>\n",
       "    <tr>\n",
       "      <th>jumps</th>\n",
       "      <td>0.000000</td>\n",
       "      <td>2.772589</td>\n",
       "      <td>0.000000</td>\n",
       "      <td>0.000000</td>\n",
       "    </tr>\n",
       "    <tr>\n",
       "      <th>lazy</th>\n",
       "      <td>0.000000</td>\n",
       "      <td>0.000000</td>\n",
       "      <td>0.693147</td>\n",
       "      <td>0.000000</td>\n",
       "    </tr>\n",
       "    <tr>\n",
       "      <th>lion</th>\n",
       "      <td>0.000000</td>\n",
       "      <td>0.000000</td>\n",
       "      <td>0.000000</td>\n",
       "      <td>0.693147</td>\n",
       "    </tr>\n",
       "    <tr>\n",
       "      <th>over</th>\n",
       "      <td>0.000000</td>\n",
       "      <td>0.693147</td>\n",
       "      <td>0.000000</td>\n",
       "      <td>0.000000</td>\n",
       "    </tr>\n",
       "    <tr>\n",
       "      <th>peacock</th>\n",
       "      <td>0.000000</td>\n",
       "      <td>0.000000</td>\n",
       "      <td>0.000000</td>\n",
       "      <td>0.693147</td>\n",
       "    </tr>\n",
       "    <tr>\n",
       "      <th>quick</th>\n",
       "      <td>0.693147</td>\n",
       "      <td>0.000000</td>\n",
       "      <td>0.000000</td>\n",
       "      <td>0.000000</td>\n",
       "    </tr>\n",
       "    <tr>\n",
       "      <th>the</th>\n",
       "      <td>-0.223144</td>\n",
       "      <td>-0.223144</td>\n",
       "      <td>-0.669431</td>\n",
       "      <td>-1.115718</td>\n",
       "    </tr>\n",
       "    <tr>\n",
       "      <th>tiger</th>\n",
       "      <td>0.000000</td>\n",
       "      <td>0.000000</td>\n",
       "      <td>0.000000</td>\n",
       "      <td>0.693147</td>\n",
       "    </tr>\n",
       "  </tbody>\n",
       "</table>\n",
       "</div>"
      ],
      "text/plain": [
       "                s1        s2        s3        s4\n",
       "brown     0.287682  0.287682  0.000000  0.000000\n",
       "dog       0.000000  0.000000  0.287682  0.287682\n",
       "elephant  0.000000  0.000000  0.287682  0.287682\n",
       "fox       0.287682  0.287682  0.000000  0.000000\n",
       "jumps     0.000000  2.772589  0.000000  0.000000\n",
       "lazy      0.000000  0.000000  0.693147  0.000000\n",
       "lion      0.000000  0.000000  0.000000  0.693147\n",
       "over      0.000000  0.693147  0.000000  0.000000\n",
       "peacock   0.000000  0.000000  0.000000  0.693147\n",
       "quick     0.693147  0.000000  0.000000  0.000000\n",
       "the      -0.223144 -0.223144 -0.669431 -1.115718\n",
       "tiger     0.000000  0.000000  0.000000  0.693147"
      ]
     },
     "execution_count": 348,
     "metadata": {},
     "output_type": "execute_result"
    }
   ],
   "source": [
    "tf_idf(docs)"
   ]
  },
  {
   "cell_type": "markdown",
   "metadata": {},
   "source": [
    "**Exercise 3 (20 points)**. \n",
    "\n",
    "1. Write a function that takes a matrix $M$ and an integer $k$ as arguments, and reconstructs a reduced matrix using only the $k$ largest singular values. Use the `scipy.linagl.svd` function to perform the decomposition. This is the least squares approximation to the matrix $M$ in $k$ dimensions.\n",
    "\n",
    "2. Apply the function you just wrote to the following term-frequency matrix for a set of $9$ documents using $k=2$ and print the reconstructed matrix $M'$.\n",
    "```\n",
    "M = np.array([[1, 0, 0, 1, 0, 0, 0, 0, 0],\n",
    "       [1, 0, 1, 0, 0, 0, 0, 0, 0],\n",
    "       [1, 1, 0, 0, 0, 0, 0, 0, 0],\n",
    "       [0, 1, 1, 0, 1, 0, 0, 0, 0],\n",
    "       [0, 1, 1, 2, 0, 0, 0, 0, 0],\n",
    "       [0, 1, 0, 0, 1, 0, 0, 0, 0],\n",
    "       [0, 1, 0, 0, 1, 0, 0, 0, 0],\n",
    "       [0, 0, 1, 1, 0, 0, 0, 0, 0],\n",
    "       [0, 1, 0, 0, 0, 0, 0, 0, 1],\n",
    "       [0, 0, 0, 0, 0, 1, 1, 1, 0],\n",
    "       [0, 0, 0, 0, 0, 0, 1, 1, 1],\n",
    "       [0, 0, 0, 0, 0, 0, 0, 1, 1]])\n",
    "```\n",
    "\n",
    "3. Calculate the pairwise correlation matrix for the original matrix M and the reconstructed matrix using $k=2$ singular values (you may use [scipy.stats.spearmanr](http://docs.scipy.org/doc/scipy/reference/generated/scipy.stats.spearmanr.html) to do the calculations). Consider the fist 5 sets of documents as one group $G1$ and the last 4 as another group $G2$ (i.e. first 5 and last 4 columns). What is the average within group correlation for $G1$, $G2$ and the average cross-group correlation for G1-G2 using either $M$ or $M'$. (Do not include self-correlation in the within-group calculations.)."
   ]
  },
  {
   "cell_type": "code",
   "execution_count": 349,
   "metadata": {
    "collapsed": false
   },
   "outputs": [],
   "source": [
    "import scipy\n",
    "from scipy import linalg,stats\n",
    "def reduced(M,k):\n",
    "    U,s,Vh = linalg.svd(M)\n",
    "    S = linalg.diagsvd(s, len(s), len(s))\n",
    "    return np.dot(np.dot(U[:,0:k],S[0:k,0:k]), Vh[0:k,:])\n"
   ]
  },
  {
   "cell_type": "code",
   "execution_count": 350,
   "metadata": {
    "collapsed": false
   },
   "outputs": [
    {
     "data": {
      "text/plain": [
       "array([[ 0.16205797,  0.40049828,  0.37895454,  0.46756626,  0.17595367,\n",
       "        -0.05265495, -0.11514284, -0.15910198, -0.09183827],\n",
       "       [ 0.14058529,  0.36980077,  0.32899603,  0.40042722,  0.16497247,\n",
       "        -0.03281545, -0.07056857, -0.09676827, -0.04298073],\n",
       "       [ 0.15244948,  0.50500444,  0.35793658,  0.41010678,  0.23623173,\n",
       "         0.02421652,  0.05978051,  0.0868573 ,  0.12396632],\n",
       "       [ 0.25804933,  0.84112343,  0.60571995,  0.69735717,  0.39231795,\n",
       "         0.03311801,  0.08324491,  0.12177239,  0.18737973],\n",
       "       [ 0.44878975,  1.23436483,  1.0508615 ,  1.26579559,  0.55633139,\n",
       "        -0.07378998, -0.15469383, -0.20959816, -0.04887954],\n",
       "       [ 0.15955428,  0.5816819 ,  0.37521897,  0.41689768,  0.27654052,\n",
       "         0.05590374,  0.1322185 ,  0.18891146,  0.21690761],\n",
       "       [ 0.15955428,  0.5816819 ,  0.37521897,  0.41689768,  0.27654052,\n",
       "         0.05590374,  0.1322185 ,  0.18891146,  0.21690761],\n",
       "       [ 0.21846278,  0.54958058,  0.51096047,  0.62805802,  0.24253607,\n",
       "        -0.06541098, -0.14252146, -0.19661186, -0.1079133 ],\n",
       "       [ 0.09690639,  0.53206438,  0.22991365,  0.21175363,  0.26652513,\n",
       "         0.13675618,  0.31462078,  0.44444058,  0.42496948],\n",
       "       [-0.06125388,  0.23210821, -0.1388984 , -0.26564589,  0.14492549,\n",
       "         0.24042105,  0.54614717,  0.7673742 ,  0.66370933],\n",
       "       [-0.06467702,  0.33528115, -0.14564055, -0.30140607,  0.20275641,\n",
       "         0.30572612,  0.69489337,  0.97661121,  0.84874969],\n",
       "       [-0.04308204,  0.25390566, -0.09666695, -0.20785821,  0.1519134 ,\n",
       "         0.22122703,  0.50294488,  0.70691163,  0.6155044 ]])"
      ]
     },
     "execution_count": 350,
     "metadata": {},
     "output_type": "execute_result"
    }
   ],
   "source": [
    "M = np.array([[1, 0, 0, 1, 0, 0, 0, 0, 0],\n",
    "    [1, 0, 1, 0, 0, 0, 0, 0, 0],\n",
    "    [1, 1, 0, 0, 0, 0, 0, 0, 0],\n",
    "    [0, 1, 1, 0, 1, 0, 0, 0, 0],\n",
    "    [0, 1, 1, 2, 0, 0, 0, 0, 0],\n",
    "    [0, 1, 0, 0, 1, 0, 0, 0, 0],\n",
    "    [0, 1, 0, 0, 1, 0, 0, 0, 0],\n",
    "    [0, 0, 1, 1, 0, 0, 0, 0, 0],\n",
    "    [0, 1, 0, 0, 0, 0, 0, 0, 1],\n",
    "    [0, 0, 0, 0, 0, 1, 1, 1, 0],\n",
    "    [0, 0, 0, 0, 0, 0, 1, 1, 1],\n",
    "    [0, 0, 0, 0, 0, 0, 0, 1, 1]])\n",
    "Mhat = reduced(M,2)\n",
    "Mhat"
   ]
  },
  {
   "cell_type": "code",
   "execution_count": 351,
   "metadata": {
    "collapsed": false,
    "scrolled": true
   },
   "outputs": [
    {
     "data": {
      "text/plain": [
       "array([[ 1.        , -0.19245009,  0.        ,  0.07339758, -0.33333333,\n",
       "        -0.17407766, -0.25819889, -0.33333333, -0.33333333],\n",
       "       [-0.19245009,  1.        ,  0.        , -0.12712835,  0.57735027,\n",
       "        -0.30151134, -0.4472136 , -0.57735027, -0.19245009],\n",
       "       [ 0.        ,  0.        ,  1.        ,  0.43822991,  0.        ,\n",
       "        -0.21320072, -0.31622777, -0.40824829, -0.40824829],\n",
       "       [ 0.07339758, -0.12712835,  0.43822991,  1.        , -0.33028913,\n",
       "        -0.17248787, -0.25584086, -0.33028913, -0.33028913],\n",
       "       [-0.33333333,  0.57735027,  0.        , -0.33028913,  1.        ,\n",
       "        -0.17407766, -0.25819889, -0.33333333, -0.33333333],\n",
       "       [-0.17407766, -0.30151134, -0.21320072, -0.17248787, -0.17407766,\n",
       "         1.        ,  0.67419986,  0.52223297, -0.17407766],\n",
       "       [-0.25819889, -0.4472136 , -0.31622777, -0.25584086, -0.25819889,\n",
       "         0.67419986,  1.        ,  0.77459667,  0.25819889],\n",
       "       [-0.33333333, -0.57735027, -0.40824829, -0.33028913, -0.33333333,\n",
       "         0.52223297,  0.77459667,  1.        ,  0.55555556],\n",
       "       [-0.33333333, -0.19245009, -0.40824829, -0.33028913, -0.33333333,\n",
       "        -0.17407766,  0.25819889,  0.55555556,  1.        ]])"
      ]
     },
     "execution_count": 351,
     "metadata": {},
     "output_type": "execute_result"
    }
   ],
   "source": [
    "#Calculate the pairwise correlation matrix for the original matrix M\n",
    "rho1,pvalue = scipy.stats.spearmanr(M)\n",
    "rho1"
   ]
  },
  {
   "cell_type": "code",
   "execution_count": 352,
   "metadata": {
    "collapsed": false
   },
   "outputs": [
    {
     "data": {
      "text/plain": [
       "array([[ 1.        ,  0.84615385,  1.        ,  1.        ,  0.72027972,\n",
       "        -0.83216783, -0.83216783, -0.83216783, -0.7972028 ],\n",
       "       [ 0.84615385,  1.        ,  0.84615385,  0.84615385,  0.97202797,\n",
       "        -0.55244755, -0.55244755, -0.55244755, -0.47552448],\n",
       "       [ 1.        ,  0.84615385,  1.        ,  1.        ,  0.72027972,\n",
       "        -0.83216783, -0.83216783, -0.83216783, -0.7972028 ],\n",
       "       [ 1.        ,  0.84615385,  1.        ,  1.        ,  0.72027972,\n",
       "        -0.83216783, -0.83216783, -0.83216783, -0.7972028 ],\n",
       "       [ 0.72027972,  0.97202797,  0.72027972,  0.72027972,  1.        ,\n",
       "        -0.38461538, -0.38461538, -0.38461538, -0.29370629],\n",
       "       [-0.83216783, -0.55244755, -0.83216783, -0.83216783, -0.38461538,\n",
       "         1.        ,  1.        ,  1.        ,  0.97902098],\n",
       "       [-0.83216783, -0.55244755, -0.83216783, -0.83216783, -0.38461538,\n",
       "         1.        ,  1.        ,  1.        ,  0.97902098],\n",
       "       [-0.83216783, -0.55244755, -0.83216783, -0.83216783, -0.38461538,\n",
       "         1.        ,  1.        ,  1.        ,  0.97902098],\n",
       "       [-0.7972028 , -0.47552448, -0.7972028 , -0.7972028 , -0.29370629,\n",
       "         0.97902098,  0.97902098,  0.97902098,  1.        ]])"
      ]
     },
     "execution_count": 352,
     "metadata": {},
     "output_type": "execute_result"
    }
   ],
   "source": [
    "#Calculate the pairwise correlation matrix for the reconstructed matrix\n",
    "rho2,pvalue = scipy.stats.spearmanr(Mhat)\n",
    "rho2"
   ]
  },
  {
   "cell_type": "code",
   "execution_count": 353,
   "metadata": {
    "collapsed": false
   },
   "outputs": [
    {
     "data": {
      "text/plain": [
       "0.010577686629862795"
      ]
     },
     "execution_count": 353,
     "metadata": {},
     "output_type": "execute_result"
    }
   ],
   "source": [
    "C1 = M[:,:5]\n",
    "cor1 = scipy.stats.spearmanr(C1)[0]\n",
    "mean1_cor = np.sum(cor1-np.eye(cor1.shape[0]))/(cor1.shape[0]**2 - cor1.shape[0])\n",
    "mean1_cor # within group average correlation"
   ]
  },
  {
   "cell_type": "code",
   "execution_count": 354,
   "metadata": {
    "collapsed": false
   },
   "outputs": [
    {
     "data": {
      "text/plain": [
       "0.43511771481980627"
      ]
     },
     "execution_count": 354,
     "metadata": {},
     "output_type": "execute_result"
    }
   ],
   "source": [
    "C2 = M[:,5:]\n",
    "cor2 = scipy.stats.spearmanr(C2)[0]\n",
    "mean2_cor = np.sum(cor2-np.eye(cor2.shape[0]))/(cor2.shape[0]**2 - cor2.shape[0])\n",
    "mean2_cor #within group average correlation"
   ]
  },
  {
   "cell_type": "code",
   "execution_count": 355,
   "metadata": {
    "collapsed": false
   },
   "outputs": [
    {
     "data": {
      "text/plain": [
       "0.026302206842114772"
      ]
     },
     "execution_count": 355,
     "metadata": {},
     "output_type": "execute_result"
    }
   ],
   "source": [
    "cross_cor = np.mean(rho1)\n",
    "cross_cor"
   ]
  },
  {
   "cell_type": "markdown",
   "metadata": {},
   "source": [
    "**Exercise 4 (40 points)**. Clustering with LSA\n",
    "\n",
    "1. Begin by loading a pubmed database of selected article titles using 'cPickle'. With the following:\n",
    "```import cPickle\n",
    "docs = cPickle.load(open('pubmed.pic'))```\n",
    "\n",
    "    Create a tf-idf matrix for every term that appears at least once in any of the documents. What is the shape of the tf-idf matrix? \n",
    "\n",
    "2. Perform SVD on the tf-idf matrix to obtain $U \\Sigma V^T$ (often written as $T \\Sigma D^T$ in this context with $T$ representing the terms and $D$ representing the documents). If we set all but the top $k$ singular values to 0, the reconstructed matrix is essentially $U_k \\Sigma_k V_k^T$, where $U_k$ is $m \\times k$, $\\Sigma_k$ is $k \\times k$ and $V_k^T$ is $k \\times n$. Terms in this reduced space are represented by $U_k \\Sigma_k$ and documents by $\\Sigma_k V^T_k$. Reconstruct the matrix using the first $k=10$ singular values.\n",
    "\n",
    "3. Use agglomerative hierachical clustering with complete linkage to plot a dendrogram and comment on the likely number of  document clusters with $k = 100$. Use the dendrogram function from [SciPy ](https://docs.scipy.org/doc/scipy-0.15.1/reference/generated/scipy.cluster.hierarchy.dendrogram.html).\n",
    "\n",
    "4. Determine how similar each of the original documents is to the new document `mystery.txt`. Since $A = U \\Sigma V^T$, we also have $V = A^T U S^{-1}$ using orthogonality and the rule for transposing matrix products. This suggests that in order to map the new document to the same concept space, first find the tf-idf vector $v$ for the new document - this must contain all (and only) the terms present in the existing tf-idx matrix. Then the query vector $q$ is given by $v^T U_k \\Sigma_k^{-1}$. Find the 10 documents most similar to the new document and the 10 most dissimilar. "
   ]
  },
  {
   "cell_type": "code",
   "execution_count": 356,
   "metadata": {
    "collapsed": false
   },
   "outputs": [],
   "source": [
    "\n",
    "import pickle \n",
    "with open('pubmed.pic', 'rb') as f:\n",
    "    docs = pickle.load(f, encoding='latin1')"
   ]
  },
  {
   "cell_type": "code",
   "execution_count": 357,
   "metadata": {
    "collapsed": false
   },
   "outputs": [],
   "source": [
    "df = tf_idf(docs)"
   ]
  },
  {
   "cell_type": "code",
   "execution_count": 358,
   "metadata": {
    "collapsed": false
   },
   "outputs": [
    {
     "data": {
      "text/plain": [
       "(6488, 178)"
      ]
     },
     "execution_count": 358,
     "metadata": {},
     "output_type": "execute_result"
    }
   ],
   "source": [
    "df.shape"
   ]
  },
  {
   "cell_type": "code",
   "execution_count": 359,
   "metadata": {
    "collapsed": false,
    "scrolled": true
   },
   "outputs": [
    {
     "data": {
      "text/plain": [
       "array([[ 0.04426728, -0.05128911,  0.17685338, ...,  0.02251461,\n",
       "         0.12676269, -0.21022814],\n",
       "       [ 0.00293911,  0.04269075,  0.00837922, ...,  0.0354431 ,\n",
       "         0.02936161,  0.09236818],\n",
       "       [ 0.00236582, -0.0758258 ,  0.0661755 , ..., -0.04051041,\n",
       "        -0.00907675, -0.18027799],\n",
       "       ..., \n",
       "       [ 0.00796169,  0.00864913,  0.01581232, ...,  0.00579137,\n",
       "         0.02599572,  0.01220511],\n",
       "       [ 0.03053506,  0.12239512,  0.07019758, ...,  0.09256041,\n",
       "         0.12828975,  0.19820361],\n",
       "       [ 0.00819589,  0.01629815,  0.01721203, ...,  0.01149927,\n",
       "         0.03127815,  0.0262137 ]])"
      ]
     },
     "execution_count": 359,
     "metadata": {},
     "output_type": "execute_result"
    }
   ],
   "source": [
    "reduced(df,10)"
   ]
  },
  {
   "cell_type": "code",
   "execution_count": 360,
   "metadata": {
    "collapsed": false
   },
   "outputs": [
    {
     "data": {
      "image/png": "[encoded data removed]",
      "text/plain": [
       "<matplotlib.figure.Figure at 0x7f1340d2d668>"
      ]
     },
     "metadata": {},
     "output_type": "display_data"
    }
   ],
   "source": [
    "import matplotlib.pyplot as plt\n",
    "from scipy.cluster.hierarchy import linkage, dendrogram\n",
    "from scipy.spatial.distance import pdist, squareform\n",
    "\n",
    "plt.figure(figsize=(16,50))\n",
    "T, s, D = sparsesvd(csc_matrix(df), k=100)\n",
    "x = np.diag(s).dot(D).T\n",
    "data_dist = pdist(x, metric='cosine') # computing the distance\n",
    "data_link = linkage(data_dist) # computing the linkage\n",
    "dendrogram(data_link, orientation='right');\n",
    "#######\n",
    "#ANSWER: it seems that there are two clusters in the documents."
   ]
  },
  {
   "cell_type": "code",
   "execution_count": 361,
   "metadata": {
    "collapsed": false,
    "scrolled": true
   },
   "outputs": [
    {
     "name": "stdout",
     "output_type": "stream",
     "text": [
      "Query article:\n",
      "﻿Intensive blood-glucose control with sulphonylureas or insulin compared with conventional treatment and risk of complications in patients with type 2 diabetes\n",
      "\n",
      "Most similar\n",
      "================================================================================\n",
      "000 Diabetes Numeracy and Blood Glucose Control: Association With Type of Diabetes and Source of Care.\n",
      "001 Feasibility of the SMART Project: A Text Message Program for Adolescents With Type 1 Diabetes.\n",
      "002 Health Care Utilization Among U.S. Adults With Diagnosed Diabetes, 2013.\n",
      "003 Demographic Disparities Among Medicare Beneficiaries with Type 2 Diabetes Mellitus in 2011: Diabetes Prevalence, Comorbidities, and Hypoglycemia Events.\n",
      "004 Disparities in Postpartum Follow-Up in Women With Gestational Diabetes Mellitus.\n",
      "005 Prevalence and Determinants of Anemia in Older People With Diabetes Attending an Outpatient Clinic: A Cross-Sectional Audit.\n",
      "006 Outcomes of a Diabetes Education Program for Registered Nurses Caring for Individuals With Diabetes.\n",
      "007 Gestational Diabetes Mellitus Screening Using the One-Step Versus Two-Step Method in a High-Risk Practice.\n",
      "008 Evaluating the toxic and beneficial effects of lichen extracts in normal and diabetic rats.\n",
      "009 Efficacy and Safety of Saxagliptin as Add-On Therapy in Type 2 Diabetes.\n",
      "\n",
      "Most dissimilar\n",
      "================================================================================\n",
      "178 Phenotypic profiling of CD8 + T cells during Plasmodium vivax blood-stage infection.\n",
      "177 ERK1/2 promoted proliferation and inhibited apoptosis of human cervical cancer cells and regulated the expression of c-Fos and c-Jun proteins.\n",
      "176 Avian haemosporidians from Neotropical highlands: Evidence from morphological and molecular data.\n",
      "175 Nerve Growth Factor Potentiates Nicotinic Synaptic Transmission in Mouse Airway Parasympathetic Neurons.\n",
      "174 Dopamine Increases CD14+CD16+ Monocyte Migration and Adhesion in the Context of Substance Abuse and HIV Neuropathogenesis.\n",
      "173 Crystal Structures of the Carboxyl cGMP Binding Domain of the Plasmodium falciparum cGMP-dependent Protein Kinase Reveal a Novel Capping Triad Crucial for Merozoite Egress.\n",
      "172 Antibodies to the Plasmodium falciparum proteins MSPDBL1 and MSPDBL2 opsonise merozoites, inhibit parasite growth and predict protection from clinical malaria.\n",
      "171 CD4 T-cell subsets in malaria: TH1/TH2 revisited.\n",
      "170 CD40 Is Required for Protective Immunity against Liver Stage Plasmodium Infection.\n",
      "169 IRGM3 contributes to immunopathology and is required for differentiation of antigen-specific effector CD8+ T cells in experimental cerebral malaria.\n"
     ]
    }
   ],
   "source": [
    "k=100\n",
    "T, s, D = sparsesvd(csc_matrix(df), k=k)\n",
    "\n",
    "doc = {'mystery': open('mystery.txt').read()}\n",
    "terms = tf_idf(doc)\n",
    "query_terms = df.join(terms).fillna(0)['mystery']\n",
    "q = query_terms.T.dot(T.T.dot(np.diag(1.0/s)))\n",
    "\n",
    "ranked_docs = df.columns[np.argsort(cosine_dist(q, x))][::-1]\n",
    "print(\"Query article:\")\n",
    "print(' '.join(line.strip() for line in doc['mystery'].splitlines()[:2]))\n",
    "print()\n",
    "print(\"Most similar\")\n",
    "print('='*80)\n",
    "for i, title in enumerate(ranked_docs[:10]):\n",
    "    print('%03d' % i, title)\n",
    "\n",
    "print()\n",
    "print(\"Most dissimilar\")\n",
    "print('='*80)\n",
    "for i, title in enumerate(ranked_docs[-10:]):\n",
    "    print('%03d' % (len(docs) - i), title)"
   ]
  },
  {
   "cell_type": "markdown",
   "metadata": {},
   "source": [
    "Notes on the Pubmed articles\n",
    "----\n",
    "\n",
    "These were downloaded with the following script.\n",
    "\n",
    "```python\n",
    "from Bio import Entrez, Medline\n",
    "Entrez.email = \"YOUR EMAIL HERE\"\n",
    "import cPickle\n",
    "\n",
    "try:\n",
    "    docs = cPickle.load(open('pubmed.pic'))\n",
    "except Exception, e:\n",
    "    print e\n",
    "\n",
    "    docs = {}\n",
    "    for term in ['plasmodium', 'diabetes', 'asthma', 'cytometry']:\n",
    "        handle = Entrez.esearch(db=\"pubmed\", term=term, retmax=50)\n",
    "        result = Entrez.read(handle)\n",
    "        handle.close()\n",
    "        idlist = result[\"IdList\"]\n",
    "        handle2 = Entrez.efetch(db=\"pubmed\", id=idlist, rettype=\"medline\", retmode=\"text\")\n",
    "        result2 = Medline.parse(handle2)\n",
    "        for record in result2:\n",
    "            title = record.get(\"TI\", None)\n",
    "            abstract = record.get(\"AB\", None)\n",
    "            if title is None or abstract is None:\n",
    "                continue\n",
    "            docs[title] = '\\n'.join([title, abstract])\n",
    "            print title\n",
    "        handle2.close()\n",
    "    cPickle.dump(docs, open('pubmed.pic', 'w'))\n",
    "docs.values()\n",
    "```"
   ]
  }
 ],
 "metadata": {
  "kernelspec": {
   "display_name": "Python 3",
   "language": "python",
   "name": "python3"
  },
  "language_info": {
   "codemirror_mode": {
    "name": "ipython",
    "version": 3
   },
   "file_extension": ".py",
   "mimetype": "text/x-python",
   "name": "python",
   "nbconvert_exporter": "python",
   "pygments_lexer": "ipython3",
   "version": "3.5.2"
  }
 },
 "nbformat": 4,
 "nbformat_minor": 0
}
